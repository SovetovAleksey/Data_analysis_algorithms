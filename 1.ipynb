{
  "nbformat": 4,
  "nbformat_minor": 0,
  "metadata": {
    "colab": {
      "provenance": [],
      "authorship_tag": "ABX9TyMNEFpFhJR1+WwbKURDBeI/",
      "include_colab_link": true
    },
    "kernelspec": {
      "name": "python3",
      "display_name": "Python 3"
    },
    "language_info": {
      "name": "python"
    }
  },
  "cells": [
    {
      "cell_type": "markdown",
      "metadata": {
        "id": "view-in-github",
        "colab_type": "text"
      },
      "source": [
        "<a href=\"https://colab.research.google.com/github/SovetovAleksey/Data_analysis_algorithms/blob/1_quest/1.ipynb\" target=\"_parent\"><img src=\"https://colab.research.google.com/assets/colab-badge.svg\" alt=\"Open In Colab\"/></a>"
      ]
    },
    {
      "cell_type": "markdown",
      "source": [
        "1. Подберите скорость обучения (alpha) и количество итераций."
      ],
      "metadata": {
        "id": "H3YVpScJtvA1"
      }
    },
    {
      "cell_type": "code",
      "execution_count": null,
      "metadata": {
        "id": "vJC8SpnRkSHg"
      },
      "outputs": [],
      "source": [
        "import numpy as np\n",
        "import matplotlib.pyplot as plt"
      ]
    },
    {
      "cell_type": "code",
      "source": [
        "X = np.array([[1, 1, 1, 1, 1, 1, 1, 1, 1, 1],\n",
        "              [1, 1, 2, 5, 3, 0, 5, 10, 1, 2]])\n",
        "X"
      ],
      "metadata": {
        "colab": {
          "base_uri": "https://localhost:8080/"
        },
        "id": "3kOQzMuwky2b",
        "outputId": "41b7ac1f-186d-49ae-9845-310d7dec163c"
      },
      "execution_count": null,
      "outputs": [
        {
          "output_type": "execute_result",
          "data": {
            "text/plain": [
              "array([[ 1,  1,  1,  1,  1,  1,  1,  1,  1,  1],\n",
              "       [ 1,  1,  2,  5,  3,  0,  5, 10,  1,  2]])"
            ]
          },
          "metadata": {},
          "execution_count": 2
        }
      ]
    },
    {
      "cell_type": "code",
      "source": [
        "y = [45, 55, 50, 55, 60, 35, 75, 80, 50, 60]"
      ],
      "metadata": {
        "id": "q3FP9lRVlHZO"
      },
      "execution_count": null,
      "outputs": []
    },
    {
      "cell_type": "code",
      "source": [
        "def calc_mae(y, y_pred):\n",
        "    err = np.mean(np.abs(y - y_pred))\n",
        "    return err\n",
        "\n",
        "def calc_mse(y, y_pred):\n",
        "    err = np.mean((y - y_pred)**2) # <=> 1/n * np.sum((y_pred - y)**2)\n",
        "    return err"
      ],
      "metadata": {
        "id": "69XrR8B8lCv3"
      },
      "execution_count": null,
      "outputs": []
    },
    {
      "cell_type": "code",
      "source": [
        "n = X.shape[1]\n",
        "alpha = 1e-1\n",
        "W = np.array([1, 0.5])\n",
        "print(f'Number of objects = {n} \\\n",
        "       \\nLearning rate = {alpha} \\\n",
        "       \\nInitial weights = {W} \\n')\n",
        "\n",
        "for i in range(1000):\n",
        "    y_pred = np.dot(W, X)\n",
        "    err = calc_mse(y, y_pred)\n",
        "    for k in range(W.shape[0]):\n",
        "        W[k] -= alpha * (1/n * 2 * np.sum(X[k] * (y_pred - y)))\n",
        "    if i % 10 == 0:\n",
        "        alpha /= 1.1\n",
        "        print(f'Iteration #{i}: W_new = {W}, MSE = {round(err,2)}, Rate = {alpha}')"
      ],
      "metadata": {
        "colab": {
          "base_uri": "https://localhost:8080/"
        },
        "id": "26GhuROSk-sO",
        "outputId": "0a56238d-0bbe-4445-c21d-91302ab85da6"
      },
      "execution_count": null,
      "outputs": [
        {
          "output_type": "stream",
          "name": "stdout",
          "text": [
            "Number of objects = 10        \n",
            "Learning rate = 0.1        \n",
            "Initial weights = [1.  0.5] \n",
            "\n",
            "Iteration #0: W_new = [11.8 38.2], MSE = 3047.75, Rate = 0.09090909090909091\n",
            "Iteration #10: W_new = [12651.73553914 69617.0969639 ], MSE = 18310954068.05, Rate = 0.08264462809917356\n",
            "Iteration #20: W_new = [ 7732434.81888022 42641607.3785219 ], MSE = 9128819654907584.0, Rate = 0.07513148009015777\n",
            "Iteration #30: W_new = [1.06344502e+09 5.86454589e+09], MSE = 2.3279203642668515e+20, Rate = 0.06830134553650706\n",
            "Iteration #40: W_new = [3.00127077e+10 1.65510116e+11], MSE = 2.5451335298159486e+23, Rate = 0.0620921323059155\n",
            "Iteration #50: W_new = [1.55345341e+11 8.56677968e+11], MSE = 9.572295620500124e+24, Rate = 0.056447393005377725\n",
            "Iteration #60: W_new = [1.27742291e+11 7.04456313e+11], MSE = 9.351480126476035e+24, Rate = 0.051315811823070656\n",
            "Iteration #70: W_new = [1.38141953e+10 7.61806995e+10], MSE = 1.6408589528283986e+23, Rate = 0.04665073802097332\n",
            "Iteration #80: W_new = [1.51674189e+08 8.36432543e+08], MSE = 3.125533537874479e+19, Rate = 0.04240976183724847\n",
            "Iteration #90: W_new = [116395.49978363 641638.79866064], MSE = 31317286806394.58, Rate = 0.03855432894295315\n",
            "Iteration #100: W_new = [48.41959619 22.99885147], MSE = 53518.86, Rate = 0.03504938994813923\n",
            "Iteration #110: W_new = [44.97711111  3.82799209], MSE = 43.97, Rate = 0.03186308177103566\n",
            "Iteration #120: W_new = [44.99891751  3.8240297 ], MSE = 43.97, Rate = 0.02896643797366878\n",
            "Iteration #130: W_new = [45.01385183  3.8213216 ], MSE = 43.97, Rate = 0.02633312543060798\n",
            "Iteration #140: W_new = [45.02434994  3.81941793], MSE = 43.97, Rate = 0.023939204936916342\n",
            "Iteration #150: W_new = [45.03190658  3.81804765], MSE = 43.97, Rate = 0.021762913579014855\n",
            "Iteration #160: W_new = [45.03746405  3.81703988], MSE = 43.97, Rate = 0.019784466890013504\n",
            "Iteration #170: W_new = [45.04163168  3.81628415], MSE = 43.97, Rate = 0.017985878990921366\n",
            "Iteration #180: W_new = [45.04481278  3.8157073 ], MSE = 43.97, Rate = 0.016350799082655788\n",
            "Iteration #190: W_new = [45.04728014  3.81525989], MSE = 43.97, Rate = 0.014864362802414351\n",
            "Iteration #200: W_new = [45.04922195  3.81490777], MSE = 43.97, Rate = 0.013513057093103954\n",
            "Iteration #210: W_new = [45.05077048  3.81462697], MSE = 43.97, Rate = 0.012284597357367229\n",
            "Iteration #220: W_new = [45.05202029  3.81440033], MSE = 43.97, Rate = 0.011167815779424753\n",
            "Iteration #230: W_new = [45.05304003  3.81421542], MSE = 43.97, Rate = 0.010152559799477047\n",
            "Iteration #240: W_new = [45.05388032  3.81406305], MSE = 43.97, Rate = 0.009229599817706406\n",
            "Iteration #250: W_new = [45.05457899  3.81393635], MSE = 43.97, Rate = 0.008390545288824004\n",
            "Iteration #260: W_new = [45.05516467  3.81383015], MSE = 43.97, Rate = 0.007627768444385457\n",
            "Iteration #270: W_new = [45.05565927  3.81374046], MSE = 43.97, Rate = 0.0069343349494413245\n",
            "Iteration #280: W_new = [45.05607977  3.81366421], MSE = 43.97, Rate = 0.006303940863128477\n",
            "Iteration #290: W_new = [45.05643948  3.81359898], MSE = 43.97, Rate = 0.005730855330116797\n",
            "Iteration #300: W_new = [45.05674888  3.81354288], MSE = 43.97, Rate = 0.00520986848192436\n",
            "Iteration #310: W_new = [45.05701637  3.81349437], MSE = 43.97, Rate = 0.004736244074476691\n",
            "Iteration #320: W_new = [45.05724868  3.81345225], MSE = 43.97, Rate = 0.004305676431342446\n",
            "Iteration #330: W_new = [45.05745128  3.81341551], MSE = 43.97, Rate = 0.003914251301220405\n",
            "Iteration #340: W_new = [45.05762864  3.81338335], MSE = 43.97, Rate = 0.0035584102738367316\n",
            "Iteration #350: W_new = [45.05778444  3.81335509], MSE = 43.97, Rate = 0.003234918430760665\n",
            "Iteration #360: W_new = [45.05792173  3.8133302 ], MSE = 43.97, Rate = 0.0029408349370551494\n",
            "Iteration #370: W_new = [45.05804304  3.8133082 ], MSE = 43.97, Rate = 0.002673486306413772\n",
            "Iteration #380: W_new = [45.05815053  3.81328871], MSE = 43.97, Rate = 0.0024304420967397925\n",
            "Iteration #390: W_new = [45.05824598  3.8132714 ], MSE = 43.97, Rate = 0.002209492815217993\n",
            "Iteration #400: W_new = [45.05833093  3.813256  ], MSE = 43.97, Rate = 0.002008629832016357\n",
            "Iteration #410: W_new = [45.05840667  3.81324226], MSE = 43.97, Rate = 0.0018260271200148698\n",
            "Iteration #420: W_new = [45.05847433  3.81322999], MSE = 43.97, Rate = 0.0016600246545589725\n",
            "Iteration #430: W_new = [45.05853486  3.81321902], MSE = 43.97, Rate = 0.0015091133223263384\n",
            "Iteration #440: W_new = [45.0585891   3.81320918], MSE = 43.97, Rate = 0.001371921202114853\n",
            "Iteration #450: W_new = [45.05863776  3.81320036], MSE = 43.97, Rate = 0.0012472010928316845\n",
            "Iteration #460: W_new = [45.05868146  3.81319243], MSE = 43.97, Rate = 0.0011338191753015312\n",
            "Iteration #470: W_new = [45.05872077  3.81318531], MSE = 43.97, Rate = 0.0010307447048195737\n",
            "Iteration #480: W_new = [45.05875614  3.81317889], MSE = 43.97, Rate = 0.0009370406407450669\n",
            "Iteration #490: W_new = [45.05878801  3.81317311], MSE = 43.97, Rate = 0.0008518551279500608\n",
            "Iteration #500: W_new = [45.05881675  3.8131679 ], MSE = 43.97, Rate = 0.0007744137526818734\n",
            "Iteration #510: W_new = [45.05884268  3.8131632 ], MSE = 43.97, Rate = 0.0007040125024380667\n",
            "Iteration #520: W_new = [45.05886609  3.81315895], MSE = 43.97, Rate = 0.0006400113658527879\n",
            "Iteration #530: W_new = [45.05888725  3.81315512], MSE = 43.97, Rate = 0.0005818285144116252\n",
            "Iteration #540: W_new = [45.05890637  3.81315165], MSE = 43.97, Rate = 0.0005289350131014774\n",
            "Iteration #550: W_new = [45.05892367  3.81314851], MSE = 43.97, Rate = 0.00048085001191043396\n",
            "Iteration #560: W_new = [45.05893932  3.81314567], MSE = 43.97, Rate = 0.0004371363744640308\n",
            "Iteration #570: W_new = [45.05895349  3.8131431 ], MSE = 43.97, Rate = 0.0003973967040582098\n",
            "Iteration #580: W_new = [45.05896633  3.81314078], MSE = 43.97, Rate = 0.00036126973096200886\n",
            "Iteration #590: W_new = [45.05897795  3.81313867], MSE = 43.97, Rate = 0.00032842702814728074\n",
            "Iteration #600: W_new = [45.05898849  3.81313676], MSE = 43.97, Rate = 0.00029857002558843703\n",
            "Iteration #610: W_new = [45.05899804  3.81313503], MSE = 43.97, Rate = 0.0002714272959894882\n",
            "Iteration #620: W_new = [45.0590067   3.81313346], MSE = 43.97, Rate = 0.00024675208726317107\n",
            "Iteration #630: W_new = [45.05901455  3.81313203], MSE = 43.97, Rate = 0.0002243200793301555\n",
            "Iteration #640: W_new = [45.05902167  3.81313074], MSE = 43.97, Rate = 0.0002039273448455959\n",
            "Iteration #650: W_new = [45.05902814  3.81312957], MSE = 43.97, Rate = 0.00018538849531417805\n",
            "Iteration #660: W_new = [45.059034    3.81312851], MSE = 43.97, Rate = 0.00016853499574016184\n",
            "Iteration #670: W_new = [45.05903933  3.81312754], MSE = 43.97, Rate = 0.00015321363249105622\n",
            "Iteration #680: W_new = [45.05904416  3.81312666], MSE = 43.97, Rate = 0.00013928512044641473\n",
            "Iteration #690: W_new = [45.05904855  3.81312587], MSE = 43.97, Rate = 0.00012662283676946793\n",
            "Iteration #700: W_new = [45.05905253  3.81312515], MSE = 43.97, Rate = 0.00011511166979042538\n",
            "Iteration #710: W_new = [45.05905615  3.81312449], MSE = 43.97, Rate = 0.00010464697253675034\n",
            "Iteration #720: W_new = [45.05905943  3.81312389], MSE = 43.97, Rate = 9.513361139704576e-05\n",
            "Iteration #730: W_new = [45.05906242  3.81312335], MSE = 43.97, Rate = 8.648510127004158e-05\n",
            "Iteration #740: W_new = [45.05906513  3.81312286], MSE = 43.97, Rate = 7.862281933640144e-05\n",
            "Iteration #750: W_new = [45.05906759  3.81312241], MSE = 43.97, Rate = 7.147529030581948e-05\n",
            "Iteration #760: W_new = [45.05906983  3.81312201], MSE = 43.97, Rate = 6.497753664165407e-05\n",
            "Iteration #770: W_new = [45.05907186  3.81312164], MSE = 43.97, Rate = 5.907048785604915e-05\n",
            "Iteration #780: W_new = [45.0590737   3.81312131], MSE = 43.97, Rate = 5.370044350549922e-05\n",
            "Iteration #790: W_new = [45.05907538  3.813121  ], MSE = 43.97, Rate = 4.881858500499929e-05\n",
            "Iteration #800: W_new = [45.05907691  3.81312073], MSE = 43.97, Rate = 4.438053182272662e-05\n",
            "Iteration #810: W_new = [45.05907829  3.81312047], MSE = 43.97, Rate = 4.0345938020660563e-05\n",
            "Iteration #820: W_new = [45.05907955  3.81312025], MSE = 43.97, Rate = 3.667812547332778e-05\n",
            "Iteration #830: W_new = [45.05908069  3.81312004], MSE = 43.97, Rate = 3.334375043029798e-05\n",
            "Iteration #840: W_new = [45.05908173  3.81311985], MSE = 43.97, Rate = 3.0312500391179983e-05\n",
            "Iteration #850: W_new = [45.05908268  3.81311968], MSE = 43.97, Rate = 2.7556818537436346e-05\n",
            "Iteration #860: W_new = [45.05908354  3.81311952], MSE = 43.97, Rate = 2.5051653215851223e-05\n",
            "Iteration #870: W_new = [45.05908432  3.81311938], MSE = 43.97, Rate = 2.2774230196228384e-05\n",
            "Iteration #880: W_new = [45.05908503  3.81311925], MSE = 43.97, Rate = 2.0703845632934893e-05\n",
            "Iteration #890: W_new = [45.05908567  3.81311914], MSE = 43.97, Rate = 1.8821677848122628e-05\n",
            "Iteration #900: W_new = [45.05908626  3.81311903], MSE = 43.97, Rate = 1.7110616225566025e-05\n",
            "Iteration #910: W_new = [45.05908679  3.81311893], MSE = 43.97, Rate = 1.5555105659605474e-05\n",
            "Iteration #920: W_new = [45.05908727  3.81311885], MSE = 43.97, Rate = 1.4141005145095884e-05\n",
            "Iteration #930: W_new = [45.05908771  3.81311877], MSE = 43.97, Rate = 1.285545922281444e-05\n",
            "Iteration #940: W_new = [45.05908811  3.81311869], MSE = 43.97, Rate = 1.1686781111649489e-05\n",
            "Iteration #950: W_new = [45.05908848  3.81311863], MSE = 43.97, Rate = 1.0624346465135898e-05\n",
            "Iteration #960: W_new = [45.05908881  3.81311857], MSE = 43.97, Rate = 9.65849678648718e-06\n",
            "Iteration #970: W_new = [45.05908911  3.81311851], MSE = 43.97, Rate = 8.780451624079253e-06\n",
            "Iteration #980: W_new = [45.05908938  3.81311846], MSE = 43.97, Rate = 7.982228749162957e-06\n",
            "Iteration #990: W_new = [45.05908963  3.81311842], MSE = 43.97, Rate = 7.256571590148142e-06\n"
          ]
        }
      ]
    },
    {
      "cell_type": "markdown",
      "source": [
        "Чем больше шаг(alpha), тем меньше итераций требуется для нахождения минимума ошибки. Чем больше итераций, тем меньше шаг, с которым мы движемся к минимуму ошибки. Получается они обратно пропорциональны"
      ],
      "metadata": {
        "id": "IoQC_Yynm73-"
      }
    },
    {
      "cell_type": "markdown",
      "source": [
        "*2. В этом коде мы избавляемся от итераций по весам, но здесь есть ошибка, исправьте её."
      ],
      "metadata": {
        "id": "7XPEVsUEt8Yf"
      }
    },
    {
      "cell_type": "code",
      "source": [
        "n = X.shape[1]\n",
        "alpha = 1e-2\n",
        "W = np.array([1, 0.5])\n",
        "print(f'Number of objects = {n} \\\n",
        "       \\nLearning rate = {alpha} \\\n",
        "       \\nInitial weights = {W} \\n')\n",
        "\n",
        "for i in range(100):\n",
        "    y_pred = np.dot(W, X)\n",
        "    err = calc_mse(y, y_pred)\n",
        "#     for k in range(W.shape[0]):\n",
        "#         W[k] -= alpha * (1/n * 2 * np.sum(X[k] * (y_pred - y)))\n",
        "    W -= alpha * (1/n * 2 * np.sum(X * (y_pred - y), axis=1)) # axis = 1\n",
        "    W_pred = W\n",
        "    if i % 10 == 0:\n",
        "        print(f'Iteration #{i}: W_new = {W}, MSE = {round(err,2)}')"
      ],
      "metadata": {
        "colab": {
          "base_uri": "https://localhost:8080/"
        },
        "id": "tR7QL2dbt5sx",
        "outputId": "efa96814-f377-471b-8acd-fc452584541e"
      },
      "execution_count": null,
      "outputs": [
        {
          "output_type": "stream",
          "name": "stdout",
          "text": [
            "Number of objects = 10        \n",
            "Learning rate = 0.01        \n",
            "Initial weights = [1.  0.5] \n",
            "\n",
            "Iteration #0: W_new = [5.85 5.35], MSE = 3047.75\n",
            "Iteration #10: W_new = [11.0965715 10.5965715], MSE = 597.49\n",
            "Iteration #20: W_new = [11.10415569 10.60415569], MSE = 597.49\n",
            "Iteration #30: W_new = [11.10416665 10.60416665], MSE = 597.49\n",
            "Iteration #40: W_new = [11.10416667 10.60416667], MSE = 597.49\n",
            "Iteration #50: W_new = [11.10416667 10.60416667], MSE = 597.49\n",
            "Iteration #60: W_new = [11.10416667 10.60416667], MSE = 597.49\n",
            "Iteration #70: W_new = [11.10416667 10.60416667], MSE = 597.49\n",
            "Iteration #80: W_new = [11.10416667 10.60416667], MSE = 597.49\n",
            "Iteration #90: W_new = [11.10416667 10.60416667], MSE = 597.49\n"
          ]
        }
      ]
    },
    {
      "cell_type": "markdown",
      "source": [
        "##### 3/ Вместо того, чтобы задавать количество итераций, задайте условие остановки алгоритма - когда ошибка за итерацию начинает изменяться ниже определенного порога. Сколько нужно сделать итераций, если установить допустимое отклонение mse в размере diff=1e-6, а значение eta=1e-2?"
      ],
      "metadata": {
        "id": "goH70FeTwR4-"
      }
    },
    {
      "cell_type": "code",
      "source": [
        "alpha = 1e-2\n",
        "W = np.array([1, 0.5])\n",
        "print(f'Number of objects = {n} \\\n",
        "       \\nLearning rate = {alpha} \\\n",
        "       \\nInitial weights = {W} \\n')\n",
        "err_diff = np.inf\n",
        "err = np.inf\n",
        "iter = 0\n",
        "\n",
        "while err_diff >= 1e-6:\n",
        "    iter += 1\n",
        "    y_pred = np.dot(W, X)\n",
        "    err_next_iter = calc_mse(y, y_pred)\n",
        "    err_diff = err - err_next_iter\n",
        "    err = err_next_iter\n",
        "    W -= alpha * (1/n * 2 * np.sum(X * (y_pred - y), axis=1))\n",
        "    \n",
        "print(f'Iteration {iter}, weights = {W}')"
      ],
      "metadata": {
        "colab": {
          "base_uri": "https://localhost:8080/"
        },
        "id": "qDkI9sW3wSW4",
        "outputId": "0fbefc69-9f99-4c03-cf7e-3c9c66ee2200"
      },
      "execution_count": null,
      "outputs": [
        {
          "output_type": "stream",
          "name": "stdout",
          "text": [
            "Number of objects = 10        \n",
            "Learning rate = 0.01        \n",
            "Initial weights = [1.  0.5] \n",
            "\n",
            "Iteration 905, weights = [45.05195252  3.81441262]\n"
          ]
        }
      ]
    }
  ]
}