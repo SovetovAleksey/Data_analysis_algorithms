{
  "nbformat": 4,
  "nbformat_minor": 0,
  "metadata": {
    "colab": {
      "provenance": [],
      "authorship_tag": "ABX9TyOfRbYEePQ2IKw2YnkhXsUF",
      "include_colab_link": true
    },
    "kernelspec": {
      "name": "python3",
      "display_name": "Python 3"
    },
    "language_info": {
      "name": "python"
    }
  },
  "cells": [
    {
      "cell_type": "markdown",
      "metadata": {
        "id": "view-in-github",
        "colab_type": "text"
      },
      "source": [
        "<a href=\"https://colab.research.google.com/github/SovetovAleksey/Data_analysis_algorithms/blob/4_quest/4_2.ipynb\" target=\"_parent\"><img src=\"https://colab.research.google.com/assets/colab-badge.svg\" alt=\"Open In Colab\"/></a>"
      ]
    },
    {
      "cell_type": "code",
      "execution_count": 1,
      "metadata": {
        "id": "8pQ6LH_VYohu"
      },
      "outputs": [],
      "source": [
        "import numpy as np\n",
        "from sklearn import datasets\n",
        "from sklearn.metrics import r2_score"
      ]
    },
    {
      "cell_type": "code",
      "source": [
        "# сгенерируем набор данных\n",
        "data, target, coef = datasets.make_regression(n_samples=1000, n_features = 3, n_informative = 2, n_targets = 1,\n",
        "                                              noise = 5, coef = True, random_state = 2)"
      ],
      "metadata": {
        "id": "7gl0XtK5Ys98"
      },
      "execution_count": 2,
      "outputs": []
    },
    {
      "cell_type": "code",
      "source": [
        "def data_std(data):\n",
        "    return data - data.mean() / data.std()"
      ],
      "metadata": {
        "id": "LvNRbDluYzvK"
      },
      "execution_count": 3,
      "outputs": []
    },
    {
      "cell_type": "code",
      "source": [
        "data = data_std(data)"
      ],
      "metadata": {
        "id": "j3aLDWm0Y2TL"
      },
      "execution_count": 4,
      "outputs": []
    },
    {
      "cell_type": "code",
      "source": [
        "# Реализуем класс узла\n",
        "class Node:\n",
        "\n",
        "    def __init__(self, index, t, true_branch, false_branch):\n",
        "        self.index = index  # индекс признака, по которому ведется сравнение с порогом в этом узле\n",
        "        self.t = t  # значение порога\n",
        "        self.true_branch = true_branch  # поддерево, удовлетворяющее условию в узле\n",
        "        self.false_branch = false_branch  # поддерево, не удовлетворяющее условию в узле"
      ],
      "metadata": {
        "id": "RaZ4mm6RY4qf"
      },
      "execution_count": 5,
      "outputs": []
    },
    {
      "cell_type": "code",
      "source": [
        "# И класс терминального узла (листа)\n",
        "class Leaf:\n",
        "\n",
        "    def __init__(self, data, target):\n",
        "        self.data = data\n",
        "        self.target = target\n",
        "        self.prediction = self.predict()\n",
        "\n",
        "    def predict(self):\n",
        "        return self.target.mean()"
      ],
      "metadata": {
        "id": "74p2lcYqY6kH"
      },
      "execution_count": 6,
      "outputs": []
    },
    {
      "cell_type": "code",
      "source": [
        "# Расчет дисперсии\n",
        "def variance(target):\n",
        "    return np.sum(((target - target.mean()) ** 2)) / target.size"
      ],
      "metadata": {
        "id": "3fQVHLhnY8tx"
      },
      "execution_count": 7,
      "outputs": []
    },
    {
      "cell_type": "code",
      "source": [
        "# Расчет качества\n",
        "def quality(left_target, right_target, current_variance):\n",
        "    # доля выбоки, ушедшая в левое поддерево\n",
        "    p = float(left_target.shape[0]) / (left_target.shape[0] + right_target.shape[0])\n",
        "\n",
        "    return current_variance - p * variance(left_target) - (1 - p) * variance(right_target)"
      ],
      "metadata": {
        "id": "9qWI59ExY-3I"
      },
      "execution_count": 8,
      "outputs": []
    },
    {
      "cell_type": "code",
      "source": [
        "# Разбиение датасета в узле\n",
        "def split(data, target, index, t):\n",
        "    left = np.where(data[:, index] <= t)\n",
        "    right = np.where(data[:, index] > t)\n",
        "\n",
        "    true_data = data[left]\n",
        "    false_data = data[right]\n",
        "    true_target = target[left]\n",
        "    false_target = target[right]\n",
        "\n",
        "    return true_data, false_data, true_target, false_target"
      ],
      "metadata": {
        "id": "V0f8CCgmZBA1"
      },
      "execution_count": 9,
      "outputs": []
    },
    {
      "cell_type": "code",
      "source": [
        "# Нахождение наилучшего разбиения\n",
        "\n",
        "def find_best_split(data, target, min_leaf=5):\n",
        "\n",
        "    current_variance = variance(target)\n",
        "\n",
        "    best_quality = 0\n",
        "    best_t = None\n",
        "    best_index = None\n",
        "    \n",
        "    n_features = data.shape[1]\n",
        "    \n",
        "    for index in range(n_features):\n",
        "        # будем проверять только уникальные значения признака, исключая повторения\n",
        "        t_values = np.unique([row[index] for row in data])\n",
        "        \n",
        "        for t in t_values:\n",
        "            true_data, false_data, true_target, false_target = split(data, target, index, t)\n",
        "            #  пропускаем разбиения, в которых в узле остается менее 5 объектов\n",
        "            if len(true_data) < min_leaf or len(false_data) < min_leaf:\n",
        "                continue\n",
        "            \n",
        "            current_quality = quality(true_target, false_target, current_variance)\n",
        "            \n",
        "            #  выбираем порог, на котором получается максимальный прирост качества\n",
        "            if current_quality > best_quality:\n",
        "                best_quality, best_t, best_index = current_quality, t, index\n",
        "\n",
        "    return best_quality, best_t, best_index"
      ],
      "metadata": {
        "id": "mReLkPTCZDGo"
      },
      "execution_count": 10,
      "outputs": []
    },
    {
      "cell_type": "code",
      "source": [
        "# Построение дерева с помощью рекурсивной функции\n",
        "\n",
        "def build_tree(data, target, min_leaf=5, level=-1):\n",
        "\n",
        "    quality, t, index = find_best_split(data, target, min_leaf=min_leaf)\n",
        "\n",
        "    #  Базовый случай - прекращаем рекурсию, когда нет прироста в качества\n",
        "    if quality == 0:\n",
        "        return Leaf(data, target)\n",
        "\n",
        "\n",
        "    true_data, false_data, true_target, false_target = split(data, target, index, t)\n",
        "\n",
        "    # Рекурсивно строим два поддерева, пока не будет достигнуто нужное число уровней, если оно указано при вызове\n",
        "    if level < 0 or level >= 1: \n",
        "        true_branch = build_tree(true_data, true_target, min_leaf=min_leaf, level=level-1)\n",
        "        false_branch = build_tree(false_data, false_target, min_leaf=min_leaf, level=level-1)\n",
        "    else:\n",
        "        return Leaf(data, target)\n",
        "\n",
        "    # Возвращаем класс узла со всеми поддеревьями, то есть целого дерева\n",
        "    return Node(index, t, true_branch, false_branch)"
      ],
      "metadata": {
        "id": "H28WS-vOZFIn"
      },
      "execution_count": 11,
      "outputs": []
    },
    {
      "cell_type": "code",
      "source": [
        "def classify_object(obj, node):\n",
        "\n",
        "    #  Останавливаем рекурсию, если достигли листа\n",
        "    if isinstance(node, Leaf):\n",
        "        answer = node.prediction\n",
        "        return answer\n",
        "\n",
        "    if obj[node.index] <= node.t:\n",
        "        return classify_object(obj, node.true_branch)\n",
        "    else:\n",
        "        return classify_object(obj, node.false_branch)"
      ],
      "metadata": {
        "id": "qlqf20ZeZHaB"
      },
      "execution_count": 12,
      "outputs": []
    },
    {
      "cell_type": "code",
      "source": [
        "def predict(data, tree):\n",
        "    classes = []\n",
        "    for obj in data:\n",
        "        prediction = classify_object(obj, tree)\n",
        "        classes.append(prediction)\n",
        "    return classes"
      ],
      "metadata": {
        "id": "OZpXaSsbZJvL"
      },
      "execution_count": 13,
      "outputs": []
    },
    {
      "cell_type": "code",
      "source": [
        "# Разобьем выборку на обучающую и тестовую\n",
        "\n",
        "from sklearn.model_selection import train_test_split\n",
        "\n",
        "train_data, test_data, train_target, test_target = train_test_split(data,\n",
        "                                                                    target,\n",
        "                                                                    test_size = 0.3,\n",
        "                                                                    random_state = 1)"
      ],
      "metadata": {
        "id": "C9eArqgSZLxR"
      },
      "execution_count": 14,
      "outputs": []
    },
    {
      "cell_type": "code",
      "source": [
        "# Построим дерево по обучающей выборке\n",
        "my_tree = build_tree(train_data, train_target, min_leaf=10, level=5)"
      ],
      "metadata": {
        "id": "3kWprF-CZNwr"
      },
      "execution_count": 15,
      "outputs": []
    },
    {
      "cell_type": "code",
      "source": [
        "# Получим ответы для обучающей выборки\n",
        "train_answers = predict(train_data, my_tree)\n",
        "\n",
        "# И получим ответы для тестовой выборки\n",
        "answers = predict(test_data, my_tree)\n",
        "\n",
        "r2_train = r2_score(list(train_target), train_answers)\n",
        "r2_test = r2_score(list(test_target), answers)\n",
        "print(r2_train, r2_test)"
      ],
      "metadata": {
        "colab": {
          "base_uri": "https://localhost:8080/"
        },
        "id": "fUCAk9iAZQRs",
        "outputId": "bf545aa6-3c2e-48bb-edc7-d183a7aebc2e"
      },
      "execution_count": 16,
      "outputs": [
        {
          "output_type": "stream",
          "name": "stdout",
          "text": [
            "0.9605874379857027 0.9250920385959558\n"
          ]
        }
      ]
    },
    {
      "cell_type": "code",
      "source": [
        "class ColorText:\n",
        "    PURPLE = '\\033[1;35;48m'\n",
        "    CYAN = '\\033[1;36;48m'\n",
        "    BOLD = '\\033[1;39;48m'\n",
        "    GREEN = '\\033[1;34;48m'\n",
        "    BLUE = '\\033[1;44;48m'\n",
        "    ORANGE = '\\033[1;32;48m'\n",
        "    YELLOW = '\\033[1;33;48m'\n",
        "    RED = '\\033[1;31;48m'\n",
        "    BLACK = '\\033[1;30;48m'\n",
        "    UNDERLINE = '\\033[1;37;48m'\n",
        "    END = '\\033[1;37;0m'"
      ],
      "metadata": {
        "id": "5zHLDvmpZSKa"
      },
      "execution_count": 17,
      "outputs": []
    },
    {
      "cell_type": "code",
      "source": [
        "# Напечатаем ход нашего дерева\n",
        "def print_tree(node, spacing=\"\"):\n",
        "\n",
        "    # Если лист, то выводим его прогноз\n",
        "    if isinstance(node, Leaf):\n",
        "        print(ColorText.ORANGE + spacing + ' ЛИСТ' \n",
        "                  + ': прогноз = ' + str(node.prediction) \n",
        "                  + ', объектов = ' + str(len(node.target)) \n",
        "                  + ColorText.END)\n",
        "        return\n",
        "\n",
        "    # Выведем значение индекса и порога на этом узле\n",
        "    print(ColorText.GREEN + spacing + 'УЗЕЛ'  \n",
        "              + ': индекс = ' + str(node.index) \n",
        "              + ', порог = ' + str(round(node.t, 2))\n",
        "              + ColorText.END)\n",
        "\n",
        "    # Рекурсионный вызов функции на положительном поддереве\n",
        "    print (spacing + '--> Левая ветка:')\n",
        "    print_tree(node.true_branch, spacing + \"   \")\n",
        "\n",
        "    # Рекурсионный вызов функции на положительном поддереве\n",
        "    print (spacing + '--> Правая ветка:')\n",
        "    print_tree(node.false_branch, spacing + \"   \")\n",
        "    \n",
        "print_tree(my_tree)"
      ],
      "metadata": {
        "colab": {
          "base_uri": "https://localhost:8080/"
        },
        "id": "d82DqDUdZUE-",
        "outputId": "0a50521d-5b37-4f86-8c12-4c607c2e1eb8"
      },
      "execution_count": 18,
      "outputs": [
        {
          "output_type": "stream",
          "name": "stdout",
          "text": [
            "\u001b[1;34;48mУЗЕЛ: индекс = 1, порог = -0.09\u001b[1;37;0m\n",
            "--> Левая ветка:\n",
            "\u001b[1;34;48m   УЗЕЛ: индекс = 1, порог = -1.01\u001b[1;37;0m\n",
            "   --> Левая ветка:\n",
            "\u001b[1;34;48m      УЗЕЛ: индекс = 2, порог = -0.53\u001b[1;37;0m\n",
            "      --> Левая ветка:\n",
            "\u001b[1;34;48m         УЗЕЛ: индекс = 1, порог = -1.84\u001b[1;37;0m\n",
            "         --> Левая ветка:\n",
            "\u001b[1;32;48m             ЛИСТ: прогноз = -208.2622132929394, объектов = 10\u001b[1;37;0m\n",
            "         --> Правая ветка:\n",
            "\u001b[1;34;48m            УЗЕЛ: индекс = 2, порог = -0.86\u001b[1;37;0m\n",
            "            --> Левая ветка:\n",
            "\u001b[1;32;48m                ЛИСТ: прогноз = -156.7966962492283, объектов = 20\u001b[1;37;0m\n",
            "            --> Правая ветка:\n",
            "\u001b[1;32;48m                ЛИСТ: прогноз = -126.45251969376058, объектов = 13\u001b[1;37;0m\n",
            "      --> Правая ветка:\n",
            "\u001b[1;34;48m         УЗЕЛ: индекс = 1, порог = -1.73\u001b[1;37;0m\n",
            "         --> Левая ветка:\n",
            "\u001b[1;34;48m            УЗЕЛ: индекс = 2, порог = 0.34\u001b[1;37;0m\n",
            "            --> Левая ветка:\n",
            "\u001b[1;32;48m                ЛИСТ: прогноз = -143.77597766027958, объектов = 10\u001b[1;37;0m\n",
            "            --> Правая ветка:\n",
            "\u001b[1;32;48m                ЛИСТ: прогноз = -107.36446810020804, объектов = 10\u001b[1;37;0m\n",
            "         --> Правая ветка:\n",
            "\u001b[1;34;48m            УЗЕЛ: индекс = 2, порог = 0.73\u001b[1;37;0m\n",
            "            --> Левая ветка:\n",
            "\u001b[1;32;48m                ЛИСТ: прогноз = -92.34931277785769, объектов = 36\u001b[1;37;0m\n",
            "            --> Правая ветка:\n",
            "\u001b[1;32;48m                ЛИСТ: прогноз = -48.286407699597895, объектов = 16\u001b[1;37;0m\n",
            "   --> Правая ветка:\n",
            "\u001b[1;34;48m      УЗЕЛ: индекс = 2, порог = 0.15\u001b[1;37;0m\n",
            "      --> Левая ветка:\n",
            "\u001b[1;34;48m         УЗЕЛ: индекс = 2, порог = -0.97\u001b[1;37;0m\n",
            "         --> Левая ветка:\n",
            "\u001b[1;34;48m            УЗЕЛ: индекс = 1, порог = -0.61\u001b[1;37;0m\n",
            "            --> Левая ветка:\n",
            "\u001b[1;32;48m                ЛИСТ: прогноз = -112.47346953192037, объектов = 18\u001b[1;37;0m\n",
            "            --> Правая ветка:\n",
            "\u001b[1;32;48m                ЛИСТ: прогноз = -86.59770400592707, объектов = 15\u001b[1;37;0m\n",
            "         --> Правая ветка:\n",
            "\u001b[1;34;48m            УЗЕЛ: индекс = 1, порог = -0.54\u001b[1;37;0m\n",
            "            --> Левая ветка:\n",
            "\u001b[1;32;48m                ЛИСТ: прогноз = -69.0120354160915, объектов = 38\u001b[1;37;0m\n",
            "            --> Правая ветка:\n",
            "\u001b[1;32;48m                ЛИСТ: прогноз = -41.068337573555105, объектов = 53\u001b[1;37;0m\n",
            "      --> Правая ветка:\n",
            "\u001b[1;34;48m         УЗЕЛ: индекс = 2, порог = 1.15\u001b[1;37;0m\n",
            "         --> Левая ветка:\n",
            "\u001b[1;34;48m            УЗЕЛ: индекс = 1, порог = -0.68\u001b[1;37;0m\n",
            "            --> Левая ветка:\n",
            "\u001b[1;32;48m                ЛИСТ: прогноз = -36.48157058836892, объектов = 24\u001b[1;37;0m\n",
            "            --> Правая ветка:\n",
            "\u001b[1;32;48m                ЛИСТ: прогноз = -2.8022071444257115, объектов = 45\u001b[1;37;0m\n",
            "         --> Правая ветка:\n",
            "\u001b[1;34;48m            УЗЕЛ: индекс = 2, порог = 1.55\u001b[1;37;0m\n",
            "            --> Левая ветка:\n",
            "\u001b[1;32;48m                ЛИСТ: прогноз = 19.8521937570023, объектов = 12\u001b[1;37;0m\n",
            "            --> Правая ветка:\n",
            "\u001b[1;32;48m                ЛИСТ: прогноз = 43.987918467598725, объектов = 11\u001b[1;37;0m\n",
            "--> Правая ветка:\n",
            "\u001b[1;34;48m   УЗЕЛ: индекс = 1, порог = 0.91\u001b[1;37;0m\n",
            "   --> Левая ветка:\n",
            "\u001b[1;34;48m      УЗЕЛ: индекс = 2, порог = -0.42\u001b[1;37;0m\n",
            "      --> Левая ветка:\n",
            "\u001b[1;34;48m         УЗЕЛ: индекс = 1, порог = 0.39\u001b[1;37;0m\n",
            "         --> Левая ветка:\n",
            "\u001b[1;34;48m            УЗЕЛ: индекс = 2, порог = -1.15\u001b[1;37;0m\n",
            "            --> Левая ветка:\n",
            "\u001b[1;32;48m                ЛИСТ: прогноз = -52.17120526452748, объектов = 18\u001b[1;37;0m\n",
            "            --> Правая ветка:\n",
            "\u001b[1;32;48m                ЛИСТ: прогноз = -15.966545290831462, объектов = 32\u001b[1;37;0m\n",
            "         --> Правая ветка:\n",
            "\u001b[1;34;48m            УЗЕЛ: индекс = 2, порог = -1.1\u001b[1;37;0m\n",
            "            --> Левая ветка:\n",
            "\u001b[1;32;48m                ЛИСТ: прогноз = -9.676208255800233, объектов = 10\u001b[1;37;0m\n",
            "            --> Правая ветка:\n",
            "\u001b[1;32;48m                ЛИСТ: прогноз = 15.574862027092715, объектов = 18\u001b[1;37;0m\n",
            "      --> Правая ветка:\n",
            "\u001b[1;34;48m         УЗЕЛ: индекс = 2, порог = 1.07\u001b[1;37;0m\n",
            "         --> Левая ветка:\n",
            "\u001b[1;34;48m            УЗЕЛ: индекс = 1, порог = 0.45\u001b[1;37;0m\n",
            "            --> Левая ветка:\n",
            "\u001b[1;32;48m                ЛИСТ: прогноз = 22.779966810029407, объектов = 72\u001b[1;37;0m\n",
            "            --> Правая ветка:\n",
            "\u001b[1;32;48m                ЛИСТ: прогноз = 54.91562538084577, объектов = 56\u001b[1;37;0m\n",
            "         --> Правая ветка:\n",
            "\u001b[1;34;48m            УЗЕЛ: индекс = 1, порог = 0.43\u001b[1;37;0m\n",
            "            --> Левая ветка:\n",
            "\u001b[1;32;48m                ЛИСТ: прогноз = 77.93532032451714, объектов = 26\u001b[1;37;0m\n",
            "            --> Правая ветка:\n",
            "\u001b[1;32;48m                ЛИСТ: прогноз = 110.45897971430239, объектов = 10\u001b[1;37;0m\n",
            "   --> Правая ветка:\n",
            "\u001b[1;34;48m      УЗЕЛ: индекс = 2, порог = -0.02\u001b[1;37;0m\n",
            "      --> Левая ветка:\n",
            "\u001b[1;34;48m         УЗЕЛ: индекс = 1, порог = 1.41\u001b[1;37;0m\n",
            "         --> Левая ветка:\n",
            "\u001b[1;34;48m            УЗЕЛ: индекс = 2, порог = -0.78\u001b[1;37;0m\n",
            "            --> Левая ветка:\n",
            "\u001b[1;32;48m                ЛИСТ: прогноз = 34.07262847400909, объектов = 22\u001b[1;37;0m\n",
            "            --> Правая ветка:\n",
            "\u001b[1;32;48m                ЛИСТ: прогноз = 76.07442842575688, объектов = 24\u001b[1;37;0m\n",
            "         --> Правая ветка:\n",
            "\u001b[1;34;48m            УЗЕЛ: индекс = 2, порог = -0.85\u001b[1;37;0m\n",
            "            --> Левая ветка:\n",
            "\u001b[1;32;48m                ЛИСТ: прогноз = 86.40364217271062, объектов = 11\u001b[1;37;0m\n",
            "            --> Правая ветка:\n",
            "\u001b[1;32;48m                ЛИСТ: прогноз = 112.18343278252196, объектов = 11\u001b[1;37;0m\n",
            "      --> Правая ветка:\n",
            "\u001b[1;34;48m         УЗЕЛ: индекс = 1, порог = 1.57\u001b[1;37;0m\n",
            "         --> Левая ветка:\n",
            "\u001b[1;34;48m            УЗЕЛ: индекс = 2, порог = 0.94\u001b[1;37;0m\n",
            "            --> Левая ветка:\n",
            "\u001b[1;32;48m                ЛИСТ: прогноз = 107.6088019593066, объектов = 24\u001b[1;37;0m\n",
            "            --> Правая ветка:\n",
            "\u001b[1;32;48m                ЛИСТ: прогноз = 146.89625571542658, объектов = 15\u001b[1;37;0m\n",
            "         --> Правая ветка:\n",
            "\u001b[1;34;48m            УЗЕЛ: индекс = 1, порог = 1.95\u001b[1;37;0m\n",
            "            --> Левая ветка:\n",
            "\u001b[1;32;48m                ЛИСТ: прогноз = 157.2829984329764, объектов = 10\u001b[1;37;0m\n",
            "            --> Правая ветка:\n",
            "\u001b[1;32;48m                ЛИСТ: прогноз = 198.58007420118204, объектов = 10\u001b[1;37;0m\n"
          ]
        }
      ]
    },
    {
      "cell_type": "code",
      "source": [],
      "metadata": {
        "id": "YZ8VnvcRZXRa"
      },
      "execution_count": null,
      "outputs": []
    }
  ]
}