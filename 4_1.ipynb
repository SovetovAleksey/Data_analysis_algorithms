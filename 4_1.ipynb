{
  "nbformat": 4,
  "nbformat_minor": 0,
  "metadata": {
    "colab": {
      "provenance": [],
      "authorship_tag": "ABX9TyN7t2yohw4JyO0kvdwoaRWu",
      "include_colab_link": true
    },
    "kernelspec": {
      "name": "python3",
      "display_name": "Python 3"
    },
    "language_info": {
      "name": "python"
    }
  },
  "cells": [
    {
      "cell_type": "markdown",
      "metadata": {
        "id": "view-in-github",
        "colab_type": "text"
      },
      "source": [
        "<a href=\"https://colab.research.google.com/github/SovetovAleksey/Data_analysis_algorithms/blob/4_quest/4_1.ipynb\" target=\"_parent\"><img src=\"https://colab.research.google.com/assets/colab-badge.svg\" alt=\"Open In Colab\"/></a>"
      ]
    },
    {
      "cell_type": "code",
      "execution_count": 1,
      "metadata": {
        "id": "iokBXhjxXhOP"
      },
      "outputs": [],
      "source": [
        "import matplotlib.pyplot as plt\n",
        "import random\n",
        "\n",
        "from matplotlib.colors import ListedColormap\n",
        "from sklearn import datasets\n",
        "\n",
        "import numpy as np"
      ]
    },
    {
      "cell_type": "code",
      "source": [
        "# сгенерируем данные\n",
        "classification_data, classification_labels = datasets.make_classification(n_samples=1000,\n",
        "                                                      n_features=3, n_informative=2, \n",
        "                                                      n_classes=2, n_redundant=0, \n",
        "                                                      n_clusters_per_class=1, \n",
        "                                                      random_state=5)"
      ],
      "metadata": {
        "id": "iJ1dHKQaXqnj"
      },
      "execution_count": 2,
      "outputs": []
    },
    {
      "cell_type": "code",
      "source": [
        "# Реализуем класс узла\n",
        "\n",
        "class Node:\n",
        "    \n",
        "    def __init__(self, index, t, true_branch, false_branch):\n",
        "        self.index = index  # индекс признака, по которому ведется сравнение с порогом в этом узле\n",
        "        self.t = t  # значение порога\n",
        "        self.true_branch = true_branch  # поддерево, удовлетворяющее условию в узле\n",
        "        self.false_branch = false_branch  # поддерево, не удовлетворяющее условию в узле"
      ],
      "metadata": {
        "id": "AmkerMzfXtDo"
      },
      "execution_count": 3,
      "outputs": []
    },
    {
      "cell_type": "code",
      "source": [
        "# И класс терминального узла (листа)\n",
        "\n",
        "class Leaf:\n",
        "    \n",
        "    def __init__(self, data, labels):\n",
        "        self.data = data\n",
        "        self.labels = labels\n",
        "        self.prediction = self.predict()\n",
        "        \n",
        "    def predict(self):\n",
        "        # подсчет количества объектов разных классов\n",
        "        classes = {}  # сформируем словарь \"класс: количество объектов\"\n",
        "        for label in self.labels:\n",
        "            if label not in classes:\n",
        "                classes[label] = 0 \n",
        "            classes[label] += 1\n",
        "        #  найдем класс, количество объектов которого будет максимальным в этом листе и вернем его    \n",
        "        prediction = max(classes, key=classes.get)\n",
        "        return prediction     "
      ],
      "metadata": {
        "id": "qrRFUQhIXu66"
      },
      "execution_count": 4,
      "outputs": []
    },
    {
      "cell_type": "code",
      "source": [
        "# Расчет критерия Джини\n",
        "\n",
        "def gini(labels):\n",
        "    #  подсчет количества объектов разных классов\n",
        "    classes = {}\n",
        "    for label in labels:\n",
        "        if label not in classes:\n",
        "            classes[label] = 0\n",
        "        classes[label] += 1\n",
        "    \n",
        "    #  расчет критерия\n",
        "    impurity = 1 # коэффициент неопределенности Джини\n",
        "    for label in classes:\n",
        "        p = classes[label] / len(labels)\n",
        "        impurity -= p ** 2\n",
        "        \n",
        "    return impurity"
      ],
      "metadata": {
        "id": "5hwajhvtXw48"
      },
      "execution_count": 5,
      "outputs": []
    },
    {
      "cell_type": "code",
      "source": [
        "# Расчет качества\n",
        "\n",
        "def quality(left_labels, right_labels, current_gini):\n",
        "\n",
        "    # доля выбоки, ушедшая в левое поддерево\n",
        "    p = float(left_labels.shape[0]) / (left_labels.shape[0] + right_labels.shape[0])\n",
        "    \n",
        "    return current_gini - p * gini(left_labels) - (1 - p) * gini(right_labels)"
      ],
      "metadata": {
        "id": "AF8xaKuDXzwh"
      },
      "execution_count": 6,
      "outputs": []
    },
    {
      "cell_type": "code",
      "source": [
        "# Разбиение датасета в узле\n",
        "\n",
        "def split(data, labels, index, t):\n",
        "    \n",
        "    left = np.where(data[:, index] <= t)\n",
        "    right = np.where(data[:, index] > t)\n",
        "        \n",
        "    true_data = data[left]\n",
        "    false_data = data[right]\n",
        "    true_labels = labels[left]\n",
        "    false_labels = labels[right]\n",
        "        \n",
        "    return true_data, false_data, true_labels, false_labels"
      ],
      "metadata": {
        "id": "tdtWVcHTX1xG"
      },
      "execution_count": 7,
      "outputs": []
    },
    {
      "cell_type": "code",
      "source": [
        "# Нахождение наилучшего разбиения\n",
        "\n",
        "def find_best_split(data, labels, min_leaf=5):\n",
        "\n",
        "    current_gini = gini(labels)\n",
        "\n",
        "    best_quality = 0\n",
        "    best_t = None\n",
        "    best_index = None\n",
        "    \n",
        "    n_features = data.shape[1]\n",
        "    \n",
        "    for index in range(n_features):\n",
        "        # будем проверять только уникальные значения признака, исключая повторения\n",
        "        t_values = np.unique([row[index] for row in data])\n",
        "        \n",
        "        for t in t_values:\n",
        "            true_data, false_data, true_labels, false_labels = split(data, labels, index, t)\n",
        "            #  пропускаем разбиения, в которых в узле остается менее 5 объектов\n",
        "            if len(true_data) < min_leaf or len(false_data) < min_leaf:\n",
        "                continue\n",
        "            \n",
        "            current_quality = quality(true_labels, false_labels, current_gini)\n",
        "            \n",
        "            #  выбираем порог, на котором получается максимальный прирост качества\n",
        "            if current_quality > best_quality:\n",
        "                best_quality, best_t, best_index = current_quality, t, index\n",
        "\n",
        "    return best_quality, best_t, best_index"
      ],
      "metadata": {
        "id": "TCMWdHzKX3n5"
      },
      "execution_count": 8,
      "outputs": []
    },
    {
      "cell_type": "code",
      "source": [
        "# Построение дерева с помощью рекурсивной функции\n",
        "\n",
        "def build_tree(data, labels, min_leaf=5, level=-1):\n",
        "\n",
        "    quality, t, index = find_best_split(data, labels, min_leaf=min_leaf)\n",
        "\n",
        "    #  Базовый случай - прекращаем рекурсию, когда нет прироста в качества\n",
        "    if quality == 0:\n",
        "        return Leaf(data, labels)\n",
        "\n",
        "\n",
        "    true_data, false_data, true_labels, false_labels = split(data, labels, index, t)\n",
        "\n",
        "    # Рекурсивно строим два поддерева, пока не будет достигнуто нужное число уровней, если оно указано при вызове\n",
        "    if level < 0 or level >= 1: \n",
        "        true_branch = build_tree(true_data, true_labels, min_leaf=min_leaf, level=level-1)\n",
        "        false_branch = build_tree(false_data, false_labels, min_leaf=min_leaf, level=level-1)\n",
        "    else:\n",
        "        return Leaf(data, labels)\n",
        "\n",
        "    # Возвращаем класс узла со всеми поддеревьями, то есть целого дерева\n",
        "    return Node(index, t, true_branch, false_branch)"
      ],
      "metadata": {
        "id": "b4Y8Vm7pX5hs"
      },
      "execution_count": 9,
      "outputs": []
    },
    {
      "cell_type": "code",
      "source": [
        "def classify_object(obj, node):\n",
        "\n",
        "    #  Останавливаем рекурсию, если достигли листа\n",
        "    if isinstance(node, Leaf):\n",
        "        answer = node.prediction\n",
        "        return answer\n",
        "\n",
        "    if obj[node.index] <= node.t:\n",
        "        return classify_object(obj, node.true_branch)\n",
        "    else:\n",
        "        return classify_object(obj, node.false_branch)"
      ],
      "metadata": {
        "id": "3LSpto-XX7Ya"
      },
      "execution_count": 10,
      "outputs": []
    },
    {
      "cell_type": "code",
      "source": [
        "def predict(data, tree):\n",
        "    \n",
        "    classes = []\n",
        "    for obj in data:\n",
        "        prediction = classify_object(obj, tree)\n",
        "        classes.append(prediction)\n",
        "    return classes"
      ],
      "metadata": {
        "id": "DTIgNCjeX9he"
      },
      "execution_count": 11,
      "outputs": []
    },
    {
      "cell_type": "code",
      "source": [
        "# Разобьем выборку на обучающую и тестовую\n",
        "\n",
        "from sklearn.model_selection import train_test_split\n",
        "\n",
        "train_data, test_data, train_labels, test_labels = train_test_split(classification_data, \n",
        "                                                                    classification_labels, \n",
        "                                                                    test_size = 0.3,\n",
        "                                                                    random_state = 1)"
      ],
      "metadata": {
        "id": "AkYKB-VsX_ca"
      },
      "execution_count": 12,
      "outputs": []
    },
    {
      "cell_type": "code",
      "source": [
        "# Построим дерево по обучающей выборке\n",
        "my_tree = build_tree(train_data, train_labels, min_leaf=9, level=5)"
      ],
      "metadata": {
        "id": "BqH6ABMHYBXg"
      },
      "execution_count": 13,
      "outputs": []
    },
    {
      "cell_type": "code",
      "source": [
        "class ColorText:\n",
        "    PURPLE = '\\033[1;35;48m'\n",
        "    CYAN = '\\033[1;36;48m'\n",
        "    BOLD = '\\033[1;39;48m'\n",
        "    GREEN = '\\033[1;34;48m'\n",
        "    BLUE = '\\033[1;44;48m'\n",
        "    ORANGE = '\\033[1;32;48m'\n",
        "    YELLOW = '\\033[1;33;48m'\n",
        "    RED = '\\033[1;31;48m'\n",
        "    BLACK = '\\033[1;30;48m'\n",
        "    UNDERLINE = '\\033[1;37;48m'\n",
        "    END = '\\033[1;37;0m'"
      ],
      "metadata": {
        "id": "bsoyZwUjYDkx"
      },
      "execution_count": 14,
      "outputs": []
    },
    {
      "cell_type": "code",
      "source": [
        "# Напечатаем ход нашего дерева\n",
        "def print_tree(node, spacing=\"\"):\n",
        "\n",
        "    # Если лист, то выводим его прогноз\n",
        "    if isinstance(node, Leaf):\n",
        "        print(ColorText.ORANGE + spacing + ' ЛИСТ' \n",
        "                  + ': прогноз = ' + str(node.prediction) \n",
        "                  + ', объектов = ' + str(len(node.labels)) \n",
        "                  + ColorText.END)\n",
        "        return\n",
        "\n",
        "    # Выведем значение индекса и порога на этом узле\n",
        "    print(ColorText.GREEN + spacing + 'УЗЕЛ'  \n",
        "              + ': индекс = ' + str(node.index) \n",
        "              + ', порог = ' + str(round(node.t, 2))\n",
        "              + ColorText.END)\n",
        "\n",
        "    # Рекурсионный вызов функции на положительном поддереве\n",
        "    print (spacing + '--> Левая ветка:')\n",
        "    print_tree(node.true_branch, spacing + \"   \")\n",
        "\n",
        "    # Рекурсионный вызов функции на положительном поддереве\n",
        "    print (spacing + '--> Правая ветка:')\n",
        "    print_tree(node.false_branch, spacing + \"   \")\n",
        "    \n",
        "print_tree(my_tree)"
      ],
      "metadata": {
        "colab": {
          "base_uri": "https://localhost:8080/"
        },
        "id": "nWQERceFYI47",
        "outputId": "3b555c1f-612f-4f48-e7df-c07e822be20a"
      },
      "execution_count": 15,
      "outputs": [
        {
          "output_type": "stream",
          "name": "stdout",
          "text": [
            "\u001b[1;34;48mУЗЕЛ: индекс = 2, порог = -0.02\u001b[1;37;0m\n",
            "--> Левая ветка:\n",
            "\u001b[1;34;48m   УЗЕЛ: индекс = 1, порог = -1.41\u001b[1;37;0m\n",
            "   --> Левая ветка:\n",
            "\u001b[1;34;48m      УЗЕЛ: индекс = 1, порог = -1.68\u001b[1;37;0m\n",
            "      --> Левая ветка:\n",
            "\u001b[1;34;48m         УЗЕЛ: индекс = 2, порог = -0.8\u001b[1;37;0m\n",
            "         --> Левая ветка:\n",
            "\u001b[1;32;48m             ЛИСТ: прогноз = 0, объектов = 9\u001b[1;37;0m\n",
            "         --> Правая ветка:\n",
            "\u001b[1;32;48m             ЛИСТ: прогноз = 0, объектов = 51\u001b[1;37;0m\n",
            "      --> Правая ветка:\n",
            "\u001b[1;34;48m         УЗЕЛ: индекс = 2, порог = -0.82\u001b[1;37;0m\n",
            "         --> Левая ветка:\n",
            "\u001b[1;32;48m             ЛИСТ: прогноз = 0, объектов = 9\u001b[1;37;0m\n",
            "         --> Правая ветка:\n",
            "\u001b[1;34;48m            УЗЕЛ: индекс = 0, порог = 0.21\u001b[1;37;0m\n",
            "            --> Левая ветка:\n",
            "\u001b[1;32;48m                ЛИСТ: прогноз = 1, объектов = 31\u001b[1;37;0m\n",
            "            --> Правая ветка:\n",
            "\u001b[1;32;48m                ЛИСТ: прогноз = 1, объектов = 19\u001b[1;37;0m\n",
            "   --> Правая ветка:\n",
            "\u001b[1;32;48m       ЛИСТ: прогноз = 0, объектов = 223\u001b[1;37;0m\n",
            "--> Правая ветка:\n",
            "\u001b[1;34;48m   УЗЕЛ: индекс = 1, порог = -1.44\u001b[1;37;0m\n",
            "   --> Левая ветка:\n",
            "\u001b[1;32;48m       ЛИСТ: прогноз = 0, объектов = 42\u001b[1;37;0m\n",
            "   --> Правая ветка:\n",
            "\u001b[1;34;48m      УЗЕЛ: индекс = 2, порог = 0.32\u001b[1;37;0m\n",
            "      --> Левая ветка:\n",
            "\u001b[1;34;48m         УЗЕЛ: индекс = 0, порог = 0.75\u001b[1;37;0m\n",
            "         --> Левая ветка:\n",
            "\u001b[1;32;48m             ЛИСТ: прогноз = 1, объектов = 21\u001b[1;37;0m\n",
            "         --> Правая ветка:\n",
            "\u001b[1;32;48m             ЛИСТ: прогноз = 1, объектов = 9\u001b[1;37;0m\n",
            "      --> Правая ветка:\n",
            "\u001b[1;34;48m         УЗЕЛ: индекс = 0, порог = -0.75\u001b[1;37;0m\n",
            "         --> Левая ветка:\n",
            "\u001b[1;34;48m            УЗЕЛ: индекс = 0, порог = -0.88\u001b[1;37;0m\n",
            "            --> Левая ветка:\n",
            "\u001b[1;32;48m                ЛИСТ: прогноз = 1, объектов = 54\u001b[1;37;0m\n",
            "            --> Правая ветка:\n",
            "\u001b[1;32;48m                ЛИСТ: прогноз = 1, объектов = 9\u001b[1;37;0m\n",
            "         --> Правая ветка:\n",
            "\u001b[1;32;48m             ЛИСТ: прогноз = 1, объектов = 223\u001b[1;37;0m\n"
          ]
        }
      ]
    },
    {
      "cell_type": "code",
      "source": [
        "# Получим ответы для обучающей выборки \n",
        "train_answers = predict(train_data, my_tree)\n",
        "\n",
        "# И получим ответы для тестовой выборки\n",
        "answers = predict(test_data, my_tree)"
      ],
      "metadata": {
        "id": "pzbYdETqYMg4"
      },
      "execution_count": 16,
      "outputs": []
    },
    {
      "cell_type": "code",
      "source": [
        "# Введем функцию подсчета точности как доли правильных ответов\n",
        "def accuracy_metric(actual, predicted):\n",
        "    correct = 0\n",
        "    for i in range(len(actual)):\n",
        "        if actual[i] == predicted[i]:\n",
        "            correct += 1\n",
        "    return correct / float(len(actual)) * 100.0"
      ],
      "metadata": {
        "id": "Z-XGIJ_1YOmr"
      },
      "execution_count": 17,
      "outputs": []
    },
    {
      "cell_type": "code",
      "source": [
        "# Точность на обучающей выборке\n",
        "train_accuracy = accuracy_metric(train_labels, train_answers)\n",
        "train_accuracy"
      ],
      "metadata": {
        "colab": {
          "base_uri": "https://localhost:8080/"
        },
        "id": "tMX4ZJWBYQZq",
        "outputId": "662c66c1-7816-4564-c68e-b9abfa2202eb"
      },
      "execution_count": 18,
      "outputs": [
        {
          "output_type": "execute_result",
          "data": {
            "text/plain": [
              "96.85714285714285"
            ]
          },
          "metadata": {},
          "execution_count": 18
        }
      ]
    },
    {
      "cell_type": "code",
      "source": [
        "# Точность на тестовой выборке\n",
        "test_accuracy = accuracy_metric(test_labels, answers)\n",
        "test_accuracy"
      ],
      "metadata": {
        "colab": {
          "base_uri": "https://localhost:8080/"
        },
        "id": "qv9mJ9DdYSAX",
        "outputId": "ab3ead76-8492-4516-c807-d19362cc1997"
      },
      "execution_count": 19,
      "outputs": [
        {
          "output_type": "execute_result",
          "data": {
            "text/plain": [
              "95.0"
            ]
          },
          "metadata": {},
          "execution_count": 19
        }
      ]
    }
  ]
}