{
  "nbformat": 4,
  "nbformat_minor": 0,
  "metadata": {
    "colab": {
      "provenance": [],
      "authorship_tag": "ABX9TyPiyiYhmEirFpd7XIaviPTR",
      "include_colab_link": true
    },
    "kernelspec": {
      "name": "python3",
      "display_name": "Python 3"
    },
    "language_info": {
      "name": "python"
    }
  },
  "cells": [
    {
      "cell_type": "markdown",
      "metadata": {
        "id": "view-in-github",
        "colab_type": "text"
      },
      "source": [
        "<a href=\"https://colab.research.google.com/github/SovetovAleksey/Data_analysis_algorithms/blob/2_quest/2.ipynb\" target=\"_parent\"><img src=\"https://colab.research.google.com/assets/colab-badge.svg\" alt=\"Open In Colab\"/></a>"
      ]
    },
    {
      "cell_type": "code",
      "execution_count": 1,
      "metadata": {
        "id": "Q12E5Fox4Ipc"
      },
      "outputs": [],
      "source": [
        "import numpy as np\n",
        "import matplotlib.pyplot as plt\n",
        "from sklearn import datasets\n",
        "\n",
        "%matplotlib inline"
      ]
    },
    {
      "cell_type": "code",
      "source": [
        "data, target, coef = datasets.make_regression(n_samples=1000, n_features=2, n_targets=1, n_informative=2, \n",
        "                                                      noise=5, random_state=1, coef=True)\n",
        "\n",
        "data.mean(axis=0), data.std(axis=0)"
      ],
      "metadata": {
        "colab": {
          "base_uri": "https://localhost:8080/"
        },
        "id": "Wj5FOuCR4TWD",
        "outputId": "df3ce17b-d95b-43d9-a850-e8dfa396cc4e"
      },
      "execution_count": 2,
      "outputs": [
        {
          "output_type": "execute_result",
          "data": {
            "text/plain": [
              "(array([0.02663608, 0.03950183]), array([1.00326526, 1.00835918]))"
            ]
          },
          "metadata": {},
          "execution_count": 2
        }
      ]
    },
    {
      "cell_type": "code",
      "source": [
        "def data_standartisation(X):\n",
        "    X = ((X - X.mean(axis=0)) / X.std(axis=0))\n",
        "    return X\n",
        "\n",
        "data = data_standartisation(data)\n",
        "\n",
        "data.mean(axis=0), data.std(axis=0)"
      ],
      "metadata": {
        "colab": {
          "base_uri": "https://localhost:8080/"
        },
        "id": "sYArtn_L4ZtW",
        "outputId": "593d90b4-67da-44db-b81d-5e25225ace7e"
      },
      "execution_count": 3,
      "outputs": [
        {
          "output_type": "execute_result",
          "data": {
            "text/plain": [
              "(array([7.93809463e-17, 4.41868764e-17]), array([1., 1.]))"
            ]
          },
          "metadata": {},
          "execution_count": 3
        }
      ]
    },
    {
      "cell_type": "code",
      "source": [
        "def mserror(X, w, y_pred):\n",
        "    y = X.dot(w)\n",
        "    return (sum((y - y_pred)**2)) / len(y)"
      ],
      "metadata": {
        "id": "Xygc-wOY4cTK"
      },
      "execution_count": 4,
      "outputs": []
    },
    {
      "cell_type": "code",
      "source": [
        "%%time\n",
        "\n",
        "#GD\n",
        "\n",
        "w = np.zeros(2)\n",
        "errors_gd = []\n",
        "eta = 0.1\n",
        "max_iter = 1e5\n",
        "min_weight_dist = 1e-7\n",
        "weight_dist = np.inf\n",
        "iter_num_gd = 0\n",
        "\n",
        "while weight_dist > min_weight_dist and iter_num_gd < max_iter:\n",
        "    new_w = w - 2 * eta * np.dot(data.T, (np.dot(data, w) - target)) / target.shape[0]\n",
        "    weight_dist = np.linalg.norm(new_w - w, ord=2)\n",
        "    \n",
        "    errors_gd.append(mserror(data, new_w, target))\n",
        "    \n",
        "    iter_num_gd += 1\n",
        "    w = new_w\n",
        "\n",
        "print(f'В случае использования градиентного спуска функционал ошибки составляет {round(errors_gd[-1], 4)}')"
      ],
      "metadata": {
        "colab": {
          "base_uri": "https://localhost:8080/"
        },
        "id": "3OpjFDnL4epd",
        "outputId": "148ac74c-7d19-461e-9fc9-fd46dc2095a2"
      },
      "execution_count": 5,
      "outputs": [
        {
          "output_type": "stream",
          "name": "stdout",
          "text": [
            "В случае использования градиентного спуска функционал ошибки составляет 38.1128\n",
            "CPU times: user 19.1 ms, sys: 3.18 ms, total: 22.3 ms\n",
            "Wall time: 25.3 ms\n"
          ]
        }
      ]
    },
    {
      "cell_type": "code",
      "source": [
        "%%time\n",
        "\n",
        "#SGD\n",
        "\n",
        "w = np.zeros(2)\n",
        "errors_sgd = []\n",
        "eta = 0.1\n",
        "max_iter = 1e5\n",
        "min_weight_dist = 1e-7\n",
        "weight_dist = np.inf\n",
        "iter_num_sgd = 0\n",
        "\n",
        "while weight_dist > min_weight_dist and iter_num_sgd < max_iter:\n",
        "    train_ind = np.random.randint(data.shape[0])\n",
        "    \n",
        "    new_w = w - 2 * eta * np.dot(data[train_ind].T, (np.dot(data[train_ind], w) - target[train_ind])) / target.shape[0]\n",
        "    weight_dist = np.linalg.norm(new_w - w, ord=2)\n",
        "    \n",
        "    errors_sgd.append(mserror(data, new_w, target))\n",
        "    \n",
        "    iter_num_sgd += 1\n",
        "    w = new_w\n",
        "\n",
        "print(f'В случае использования стохастического градиентного спуска функционал ошибки составляет {round(errors_sgd[-1], 4)}')"
      ],
      "metadata": {
        "colab": {
          "base_uri": "https://localhost:8080/"
        },
        "id": "rqILkbaD4ksX",
        "outputId": "fb6a95d9-40b4-46a3-8c98-6fa3759588f9"
      },
      "execution_count": 6,
      "outputs": [
        {
          "output_type": "stream",
          "name": "stdout",
          "text": [
            "В случае использования стохастического градиентного спуска функционал ошибки составляет 41.4949\n",
            "CPU times: user 3.54 s, sys: 17.3 ms, total: 3.56 s\n",
            "Wall time: 3.62 s\n"
          ]
        }
      ]
    },
    {
      "cell_type": "code",
      "source": [
        "plt.figure(figsize=(20, 10))\n",
        "plt.plot(range(len(errors_gd)), errors_gd, label='errors_gd')\n",
        "plt.plot(range(len(errors_sgd)), errors_sgd, label='errors_sgd')\n",
        "plt.legend()\n",
        "plt.xlabel('Iterations')\n",
        "plt.ylabel('MSE')\n",
        "plt.show()"
      ],
      "metadata": {
        "colab": {
          "base_uri": "https://localhost:8080/",
          "height": 606
        },
        "id": "Q5lRZQC04op0",
        "outputId": "f15eb45f-f5a7-4fdb-f95d-0221636019fa"
      },
      "execution_count": 7,
      "outputs": [
        {
          "output_type": "display_data",
          "data": {
            "text/plain": [
              "<Figure size 1440x720 with 1 Axes>"
            ],
            "image/png": "[encoded data removed]"
          },
          "metadata": {
            "needs_background": "light"
          }
        }
      ]
    },
    {
      "cell_type": "code",
      "source": [
        "iter_num_gd, iter_num_sgd"
      ],
      "metadata": {
        "colab": {
          "base_uri": "https://localhost:8080/"
        },
        "id": "zUXpt3nq4s5j",
        "outputId": "3fe2865f-dcef-4190-e638-b6431f7beea8"
      },
      "execution_count": 8,
      "outputs": [
        {
          "output_type": "execute_result",
          "data": {
            "text/plain": [
              "(89, 19454)"
            ]
          },
          "metadata": {},
          "execution_count": 8
        }
      ]
    },
    {
      "cell_type": "markdown",
      "source": [
        "Градиентный спуск приходит к минимуму ошибки почти сразу. Для стохастического потребовалось гораздо больше итераций. На использованных данных скорость выполнения алгоритмов сильно отличается, но на большем объеме данных всё будет иначе, SGD не будет выглядеть таким медленным, GD потребуется больше времени для вычислений."
      ],
      "metadata": {
        "id": "l3tHUS244vgb"
      }
    }
  ]
}